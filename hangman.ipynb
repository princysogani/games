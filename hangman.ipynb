{
 "cells": [
  {
   "cell_type": "code",
   "execution_count": null,
   "id": "581b08e4-7668-41d8-9404-aec9a8f72b32",
   "metadata": {},
   "outputs": [
    {
     "name": "stdin",
     "output_type": "stream",
     "text": [
      "ENTER YOUR NAME>>  priyam\n"
     ]
    },
    {
     "name": "stdout",
     "output_type": "stream",
     "text": [
      "WELCOME priyam !!\n",
      "********\n",
      "try to guess the word in less then 10 attempts\n",
      "guess the word ______\n"
     ]
    },
    {
     "name": "stdin",
     "output_type": "stream",
     "text": [
      " a\n"
     ]
    },
    {
     "name": "stdout",
     "output_type": "stream",
     "text": [
      "9 turns left\n",
      "----------------\n",
      "guess the word ______\n"
     ]
    },
    {
     "name": "stdin",
     "output_type": "stream",
     "text": [
      " p\n"
     ]
    },
    {
     "name": "stdout",
     "output_type": "stream",
     "text": [
      "guess the word p_____\n"
     ]
    }
   ],
   "source": [
    "import random     #for random words\n",
    "def hangmanpro(): #create function\n",
    "    words_list = ['parish','preeti','shailesh','princy','robotics','aayushi','naman']\n",
    "    words=random.choice(words_list) #gives random choices from list\n",
    "    turns=10 #we have 10 turns or 10 chances\n",
    "    guessmade=\"\" #for user to guess\n",
    "    valid_enteries=set(\"abcdefghijklmnopqrstuvwxyz\")#uesr can enter only valid leter\n",
    "    while len(words)>0:\n",
    "        main_word=\"\"\n",
    "        \n",
    "        for letter in words:\n",
    "            if letter in guessmade:\n",
    "                main_word=main_word+letter\n",
    "            else:\n",
    "                main_word=main_word+\"_\"\n",
    "        if main_word==words:\n",
    "            print(\"YOU WON!!\")\n",
    "            break\n",
    "        print(\"guess the word\",main_word)\n",
    "        guess=input()\n",
    "        if guess in valid_enteries:\n",
    "            guessmade=guessmade+guess\n",
    "        else:\n",
    "            print(\"enter the valid character\")\n",
    "            guess=input()\n",
    "        if guess not in words:\n",
    "            turns=turns-1\n",
    "            if turns==9:\n",
    "                print(\"9 turns left\")\n",
    "                print(\"----------------\")\n",
    "            if turns==8:\n",
    "                print(\"8 turns left\")\n",
    "                print(\"----------------\")\n",
    "                print(\"        O       \")\n",
    "            if turns==7:\n",
    "                print(\"7 turns left\")\n",
    "                print(\"----------------\")\n",
    "                print(\"        O       \")\n",
    "                print(\"        |       \")\n",
    "            if turns==6:\n",
    "                print(\"6 turns left\")\n",
    "                print(\"----------------\")\n",
    "                print(\"        O       \")\n",
    "                print(\"        |       \")\n",
    "                print(\"       /        \")\n",
    "            if turns==5:\n",
    "                print(\"5 turns left\")\n",
    "                print(\"----------------\")\n",
    "                print(\"        O       \")\n",
    "                print(\"        |       \")\n",
    "                print(\"       / \\      \")\n",
    "            if turns==4:\n",
    "                print(\"4 turns left\")\n",
    "                print(\"----------------\")\n",
    "                print(\"       \\O       \")\n",
    "                print(\"        |       \")\n",
    "                print(\"       / \\      \")\n",
    "            if turns==3:\n",
    "                print(\"3 turns left\")\n",
    "                print(\"----------------\")\n",
    "                print(\"       \\O/      \")\n",
    "                print(\"        |       \")\n",
    "                print(\"       / \\      \")\n",
    "            if turns==2:\n",
    "                print(\"2 turns left\")\n",
    "                print(\"----------------\")\n",
    "                print(\"       \\O/ |    \")\n",
    "                print(\"        |       \")\n",
    "                print(\"       / \\      \")\n",
    "            if turns==1:\n",
    "                print(\"only 1 turn left\")\n",
    "                print(\"----------------\")\n",
    "                print(\"       \\O/_|    \")\n",
    "                print(\"        |       \")\n",
    "                print(\"       / \\      \")\n",
    "            if turns==0:\n",
    "                print(\"YOU LOOSE\")\n",
    "                print(\"----------------\")\n",
    "                print(\"        O_|     \")\n",
    "                print(\"       /|\\      \")\n",
    "                print(\"       / \\      \")\n",
    "                break\n",
    "                \n",
    "            \n",
    "            \n",
    "                \n",
    "                \n",
    "                \n",
    "name = input(\"ENTER YOUR NAME>> \")\n",
    "print(\"WELCOME\",name,\"!!\")\n",
    "print(\"********\")\n",
    "print(\"try to guess the word in less then 10 attempts\")\n",
    "hangmanpro()"
   ]
  },
  {
   "cell_type": "code",
   "execution_count": null,
   "id": "085b7b98-29c1-4273-8346-c56acd115f4c",
   "metadata": {},
   "outputs": [],
   "source": []
  }
 ],
 "metadata": {
  "kernelspec": {
   "display_name": "Python 3 (ipykernel)",
   "language": "python",
   "name": "python3"
  },
  "language_info": {
   "codemirror_mode": {
    "name": "ipython",
    "version": 3
   },
   "file_extension": ".py",
   "mimetype": "text/x-python",
   "name": "python",
   "nbconvert_exporter": "python",
   "pygments_lexer": "ipython3",
   "version": "3.9.7"
  }
 },
 "nbformat": 4,
 "nbformat_minor": 5
}
